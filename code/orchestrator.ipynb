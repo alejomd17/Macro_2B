{
 "cells": [
  {
   "attachments": {},
   "cell_type": "markdown",
   "metadata": {},
   "source": [
    "## librerias"
   ]
  },
  {
   "cell_type": "code",
   "execution_count": 1,
   "metadata": {},
   "outputs": [
    {
     "name": "stdout",
     "output_type": "stream",
     "text": [
      "c:\\Users\\jmoscoso04\\OneDrive - Cementos Argos S.A\\Documentos\\Proyectos\\2B\\Macro_2B\\code\n"
     ]
    }
   ],
   "source": [
    "import os\n",
    "import pandas as pd\n",
    "import numpy as np\n",
    "from datetime import datetime\n",
    "from preprocessing.data_preprocessing import data_preprocessing\n",
    "from util.aux_funtions import stat_significance_Correlation, lags_evaluation\n",
    "#import models\n",
    "from training.xgboost_regressor import XgboostRegressorModel\n",
    "from training.nn_regresor import MlpRegressorModel\n",
    "from training.lasso import LassoModel\n",
    "\n",
    "from training.train_local import main\n",
    "from training.auxiliar_functions import evaluate_metrics,select_best_model,obtain_steps,series_to_supervised\n",
    "import matplotlib.pyplot as plt\n",
    "\n",
    "from sklearn.preprocessing import StandardScaler,MinMaxScaler\n",
    "from skforecast.utils import save_forecaster\n",
    "from joblib import dump, load\n",
    "\n",
    "# Configuración warnings\n",
    "# ==============================================================================\n",
    "import warnings\n",
    "warnings.filterwarnings('ignore')"
   ]
  },
  {
   "cell_type": "code",
   "execution_count": 2,
   "metadata": {},
   "outputs": [],
   "source": [
    "import os\n",
    "ROOT_PATH=os.path.abspath(os.path.join(os.path.dirname('__file__')))\n",
    "# Read config file\n",
    "DATA_OUT_PATH= os.path.join(ROOT_PATH,'data','output')"
   ]
  },
  {
   "attachments": {},
   "cell_type": "markdown",
   "metadata": {},
   "source": [
    "## procesamiento de datos"
   ]
  },
  {
   "cell_type": "code",
   "execution_count": 3,
   "metadata": {},
   "outputs": [
    {
     "name": "stdout",
     "output_type": "stream",
     "text": [
      "****************************data_preprocessing***********************************************\n",
      "****************************stat_significance_Correlation************************************\n",
      "amz                       0.914368\n",
      "federal_funds            -0.334318\n",
      "apparel_retailers         0.816310\n",
      "test_10y                 -0.324695\n",
      "inflation                 0.674462\n",
      "consumer_discretionary    0.940462\n",
      "luxury                    0.909449\n",
      "fed_mp                   -0.304841\n",
      "Name: corr_pearson, dtype: float64\n",
      "amz                       0.923722\n",
      "federal_funds            -0.360828\n",
      "apparel_retailers         0.806346\n",
      "test_10y                 -0.356820\n",
      "inflation                 0.424043\n",
      "consumer_discretionary    0.948128\n",
      "luxury                    0.888542\n",
      "fed_mp                   -0.344687\n",
      "Name: corr_spearman, dtype: float64\n",
      "amz                       0.755578\n",
      "unempl                   -0.148051\n",
      "federal_funds            -0.149975\n",
      "apparel_retailers         0.582418\n",
      "test_10y                 -0.184149\n",
      "inflation                 0.283569\n",
      "consumer_discretionary    0.794206\n",
      "luxury                    0.708292\n",
      "fed_mp                   -0.135540\n",
      "Name: corr_kendalltau, dtype: float64\n",
      "****************************lags_evaluation**************************************************\n"
     ]
    }
   ],
   "source": [
    "start_date = '2015-01'\n",
    "end_date = '2022-06'\n",
    "selected_lags={}\n",
    "df_out={}\n",
    "\n",
    "# for c in column:\n",
    "print(f\"****************************data_preprocessing***********************************************\")\n",
    "df_data = data_preprocessing(start_date, end_date)\n",
    "print(f\"****************************stat_significance_Correlation************************************\")\n",
    "features=list(df_data.columns[1:])\n",
    "stat_significance_Correlation(df_data,features, p_value_limit=0.08)\n",
    "print(f\"****************************lags_evaluation**************************************************\")\n",
    "y_list=list(df_data.columns[:1])\n",
    "df_selected_lags=lags_evaluation(df_data,y_list)\n",
    "selected_lags['twobe']=df_selected_lags\n",
    "# print(df_selected_lags)"
   ]
  },
  {
   "attachments": {},
   "cell_type": "markdown",
   "metadata": {},
   "source": [
    "## Entrenamiento de modelos  con datos de valor acumulados"
   ]
  },
  {
   "attachments": {},
   "cell_type": "markdown",
   "metadata": {},
   "source": [
    "### mejores lags"
   ]
  },
  {
   "attachments": {},
   "cell_type": "markdown",
   "metadata": {},
   "source": [
    "### competencia mejor modelo"
   ]
  },
  {
   "cell_type": "code",
   "execution_count": 4,
   "metadata": {},
   "outputs": [],
   "source": [
    "features = list(df_data.drop(columns=['twobe']).columns)\n",
    "features = list(df_data.columns)\n",
    "div = 5\n",
    "lags_param = 12\n",
    "winner_acum = main(df_data,features,div,lags_param)"
   ]
  },
  {
   "cell_type": "code",
   "execution_count": 27,
   "metadata": {},
   "outputs": [],
   "source": [
    "pd.DataFrame(winner_acum).to_csv('scenarios\\winner_dict.csv')"
   ]
  },
  {
   "attachments": {},
   "cell_type": "markdown",
   "metadata": {},
   "source": [
    "### resultado metricas mejor modelo"
   ]
  },
  {
   "cell_type": "code",
   "execution_count": 28,
   "metadata": {},
   "outputs": [],
   "source": [
    "for m in os.listdir(os.path.join(DATA_OUT_PATH,'training_models')): \n",
    "    if 'forecaster_' in m and winner_acum['model_name'] in m:\n",
    "        # Load model\n",
    "        forecaster_loaded = load(os.path.join(DATA_OUT_PATH,'training_models',m))\n",
    "    if 'scaler_X_' in m and winner_acum['model_name'] in m:\n",
    "        # Load scaler\n",
    "        scaler_X_loaded = load(os.path.join(DATA_OUT_PATH,'training_models',m))\n",
    "    if 'scaler_y_' in m and winner_acum['model_name'] in m:\n",
    "        scaler_y_loaded = load(os.path.join(DATA_OUT_PATH,'training_models',m))\n",
    "\n",
    "if 'MlpRegressorModel_' in winner_acum['model_name']:\n",
    "    object_model=MlpRegressorModel()\n",
    "elif 'XgboostRegressorModel' in winner_acum['model_name']:\n",
    "    object_model=XgboostRegressorModel()\n",
    "elif 'LassoModel' in winner_acum['model_name']:\n",
    "    object_model=LassoModel()\n",
    "\n",
    "object_model.scaler_X=scaler_X_loaded\n",
    "object_model.scaler_y=scaler_y_loaded"
   ]
  },
  {
   "cell_type": "code",
   "execution_count": 6,
   "metadata": {},
   "outputs": [],
   "source": [
    "#create dataset with lags\n",
    "df_lags = series_to_supervised(df_data[features], n_lags=winner_acum['lags'], n_out=1, dropnan=True)\n",
    "df = df_lags[df_lags.columns[:-len(features)+1]]\n",
    "df['mes'] = df.index.month\n",
    "data_test = df[-div:]     \n",
    "predictions = object_model.predict_steps(winner_acum['model'],data_test.drop('twobe',axis=1))\n",
    "eval_metrics = evaluate_metrics(data_test[['twobe']], predictions)"
   ]
  },
  {
   "cell_type": "code",
   "execution_count": 7,
   "metadata": {},
   "outputs": [
    {
     "data": {
      "text/plain": [
       "Text(0.5, 1.0, 'prediccion del valor acumulado: LassoModel_12')"
      ]
     },
     "execution_count": 7,
     "metadata": {},
     "output_type": "execute_result"
    },
    {
     "data": {
      "image/png": "[encoded data removed]",
      "text/plain": [
       "<Figure size 900x400 with 1 Axes>"
      ]
     },
     "metadata": {},
     "output_type": "display_data"
    }
   ],
   "source": [
    "# Gráfico\n",
    "# ==============================================================================\n",
    "fig, ax = plt.subplots(figsize=(9, 4))\n",
    "df_grafico_acum=pd.DataFrame([])\n",
    "df_grafico_acum['predicciones_twobe']=predictions['twobe']\n",
    "df_grafico_acum['twobe']=data_test[['twobe']]\n",
    "df_grafico_acum.plot(ax=ax)\n",
    "ax.legend()\n",
    "ax.set_title(f'prediccion del valor acumulado: {winner_acum[\"model_name\"]}')"
   ]
  },
  {
   "attachments": {},
   "cell_type": "markdown",
   "metadata": {},
   "source": [
    "## analisis de sensibilidad"
   ]
  },
  {
   "cell_type": "code",
   "execution_count": 8,
   "metadata": {},
   "outputs": [
    {
     "data": {
      "text/html": [
       "<div>\n",
       "<style scoped>\n",
       "    .dataframe tbody tr th:only-of-type {\n",
       "        vertical-align: middle;\n",
       "    }\n",
       "\n",
       "    .dataframe tbody tr th {\n",
       "        vertical-align: top;\n",
       "    }\n",
       "\n",
       "    .dataframe thead th {\n",
       "        text-align: right;\n",
       "    }\n",
       "</style>\n",
       "<table border=\"1\" class=\"dataframe\">\n",
       "  <thead>\n",
       "    <tr style=\"text-align: right;\">\n",
       "      <th></th>\n",
       "      <th>twobe_lag_5</th>\n",
       "      <th>amz_lag_5</th>\n",
       "      <th>unempl_lag_5</th>\n",
       "      <th>federal_funds_lag_5</th>\n",
       "      <th>apparel_retailers_lag_5</th>\n",
       "      <th>test_10y_lag_5</th>\n",
       "      <th>gdp_lag_5</th>\n",
       "      <th>inflation_lag_5</th>\n",
       "      <th>consumer_discretionary_lag_5</th>\n",
       "      <th>luxury_lag_5</th>\n",
       "      <th>...</th>\n",
       "      <th>federal_funds_lag_1</th>\n",
       "      <th>apparel_retailers_lag_1</th>\n",
       "      <th>test_10y_lag_1</th>\n",
       "      <th>gdp_lag_1</th>\n",
       "      <th>inflation_lag_1</th>\n",
       "      <th>consumer_discretionary_lag_1</th>\n",
       "      <th>luxury_lag_1</th>\n",
       "      <th>fed_mp_lag_1</th>\n",
       "      <th>twobe</th>\n",
       "      <th>mes</th>\n",
       "    </tr>\n",
       "    <tr>\n",
       "      <th>fecha</th>\n",
       "      <th></th>\n",
       "      <th></th>\n",
       "      <th></th>\n",
       "      <th></th>\n",
       "      <th></th>\n",
       "      <th></th>\n",
       "      <th></th>\n",
       "      <th></th>\n",
       "      <th></th>\n",
       "      <th></th>\n",
       "      <th></th>\n",
       "      <th></th>\n",
       "      <th></th>\n",
       "      <th></th>\n",
       "      <th></th>\n",
       "      <th></th>\n",
       "      <th></th>\n",
       "      <th></th>\n",
       "      <th></th>\n",
       "      <th></th>\n",
       "      <th></th>\n",
       "    </tr>\n",
       "  </thead>\n",
       "  <tbody>\n",
       "    <tr>\n",
       "      <th>2022-02-01</th>\n",
       "      <td>1557.033333</td>\n",
       "      <td>171.359143</td>\n",
       "      <td>0.048</td>\n",
       "      <td>0.00079</td>\n",
       "      <td>1216.904762</td>\n",
       "      <td>0.013706</td>\n",
       "      <td>0.023</td>\n",
       "      <td>0.054</td>\n",
       "      <td>1461.767619</td>\n",
       "      <td>4533.517727</td>\n",
       "      <td>...</td>\n",
       "      <td>0.0008</td>\n",
       "      <td>1151.05</td>\n",
       "      <td>0.01759</td>\n",
       "      <td>-0.014</td>\n",
       "      <td>0.075</td>\n",
       "      <td>1511.4035</td>\n",
       "      <td>4704.786667</td>\n",
       "      <td>0.0025</td>\n",
       "      <td>1903.5</td>\n",
       "      <td>2</td>\n",
       "    </tr>\n",
       "  </tbody>\n",
       "</table>\n",
       "<p>1 rows × 57 columns</p>\n",
       "</div>"
      ],
      "text/plain": [
       "            twobe_lag_5   amz_lag_5  unempl_lag_5  federal_funds_lag_5  \\\n",
       "fecha                                                                    \n",
       "2022-02-01  1557.033333  171.359143         0.048              0.00079   \n",
       "\n",
       "            apparel_retailers_lag_5  test_10y_lag_5  gdp_lag_5  \\\n",
       "fecha                                                            \n",
       "2022-02-01              1216.904762        0.013706      0.023   \n",
       "\n",
       "            inflation_lag_5  consumer_discretionary_lag_5  luxury_lag_5  ...  \\\n",
       "fecha                                                                    ...   \n",
       "2022-02-01            0.054                   1461.767619   4533.517727  ...   \n",
       "\n",
       "            federal_funds_lag_1  apparel_retailers_lag_1  test_10y_lag_1  \\\n",
       "fecha                                                                      \n",
       "2022-02-01               0.0008                  1151.05         0.01759   \n",
       "\n",
       "            gdp_lag_1  inflation_lag_1  consumer_discretionary_lag_1  \\\n",
       "fecha                                                                  \n",
       "2022-02-01     -0.014            0.075                     1511.4035   \n",
       "\n",
       "            luxury_lag_1  fed_mp_lag_1   twobe  mes  \n",
       "fecha                                                \n",
       "2022-02-01   4704.786667        0.0025  1903.5    2  \n",
       "\n",
       "[1 rows x 57 columns]"
      ]
     },
     "execution_count": 8,
     "metadata": {},
     "output_type": "execute_result"
    }
   ],
   "source": [
    "porcentajes_variacion_xi = [0.2,0.1,0,-0.1, -0.2]\n",
    "xi = df.loc[['2022-02-01']]\n",
    "columns=list(df.drop('twobe',axis=1).columns)\n",
    "xi"
   ]
  },
  {
   "cell_type": "code",
   "execution_count": 27,
   "metadata": {},
   "outputs": [
    {
     "data": {
      "text/html": [
       "<div>\n",
       "<style scoped>\n",
       "    .dataframe tbody tr th:only-of-type {\n",
       "        vertical-align: middle;\n",
       "    }\n",
       "\n",
       "    .dataframe tbody tr th {\n",
       "        vertical-align: top;\n",
       "    }\n",
       "\n",
       "    .dataframe thead th {\n",
       "        text-align: right;\n",
       "    }\n",
       "</style>\n",
       "<table border=\"1\" class=\"dataframe\">\n",
       "  <thead>\n",
       "    <tr style=\"text-align: right;\">\n",
       "      <th></th>\n",
       "      <th>twobe</th>\n",
       "      <th>mes</th>\n",
       "      <th>variable</th>\n",
       "      <th>porcentaje_var</th>\n",
       "      <th>nuevo_twobe</th>\n",
       "    </tr>\n",
       "  </thead>\n",
       "  <tbody>\n",
       "    <tr>\n",
       "      <th>0</th>\n",
       "      <td>1903.5</td>\n",
       "      <td>2.0</td>\n",
       "      <td>twobe_lag_5</td>\n",
       "      <td>-0.2</td>\n",
       "      <td>1703.533726</td>\n",
       "    </tr>\n",
       "    <tr>\n",
       "      <th>1</th>\n",
       "      <td>1903.5</td>\n",
       "      <td>2.0</td>\n",
       "      <td>twobe_lag_5</td>\n",
       "      <td>-0.1</td>\n",
       "      <td>1699.744253</td>\n",
       "    </tr>\n",
       "    <tr>\n",
       "      <th>2</th>\n",
       "      <td>1903.5</td>\n",
       "      <td>2.0</td>\n",
       "      <td>twobe_lag_5</td>\n",
       "      <td>0.0</td>\n",
       "      <td>1695.954781</td>\n",
       "    </tr>\n",
       "    <tr>\n",
       "      <th>3</th>\n",
       "      <td>1903.5</td>\n",
       "      <td>2.0</td>\n",
       "      <td>twobe_lag_5</td>\n",
       "      <td>0.1</td>\n",
       "      <td>1692.165309</td>\n",
       "    </tr>\n",
       "    <tr>\n",
       "      <th>4</th>\n",
       "      <td>1903.5</td>\n",
       "      <td>2.0</td>\n",
       "      <td>twobe_lag_5</td>\n",
       "      <td>0.2</td>\n",
       "      <td>1688.375836</td>\n",
       "    </tr>\n",
       "    <tr>\n",
       "      <th>5</th>\n",
       "      <td>1903.5</td>\n",
       "      <td>2.0</td>\n",
       "      <td>amz_lag_5</td>\n",
       "      <td>-0.2</td>\n",
       "      <td>1483.561207</td>\n",
       "    </tr>\n",
       "    <tr>\n",
       "      <th>6</th>\n",
       "      <td>1903.5</td>\n",
       "      <td>2.0</td>\n",
       "      <td>amz_lag_5</td>\n",
       "      <td>-0.1</td>\n",
       "      <td>1589.757994</td>\n",
       "    </tr>\n",
       "    <tr>\n",
       "      <th>7</th>\n",
       "      <td>1903.5</td>\n",
       "      <td>2.0</td>\n",
       "      <td>amz_lag_5</td>\n",
       "      <td>0.0</td>\n",
       "      <td>1695.954781</td>\n",
       "    </tr>\n",
       "    <tr>\n",
       "      <th>8</th>\n",
       "      <td>1903.5</td>\n",
       "      <td>2.0</td>\n",
       "      <td>amz_lag_5</td>\n",
       "      <td>0.1</td>\n",
       "      <td>1802.151568</td>\n",
       "    </tr>\n",
       "    <tr>\n",
       "      <th>9</th>\n",
       "      <td>1903.5</td>\n",
       "      <td>2.0</td>\n",
       "      <td>amz_lag_5</td>\n",
       "      <td>0.2</td>\n",
       "      <td>1908.348355</td>\n",
       "    </tr>\n",
       "    <tr>\n",
       "      <th>10</th>\n",
       "      <td>1903.5</td>\n",
       "      <td>2.0</td>\n",
       "      <td>unempl_lag_5</td>\n",
       "      <td>-0.2</td>\n",
       "      <td>1695.954781</td>\n",
       "    </tr>\n",
       "    <tr>\n",
       "      <th>11</th>\n",
       "      <td>1903.5</td>\n",
       "      <td>2.0</td>\n",
       "      <td>unempl_lag_5</td>\n",
       "      <td>-0.1</td>\n",
       "      <td>1695.954781</td>\n",
       "    </tr>\n",
       "    <tr>\n",
       "      <th>12</th>\n",
       "      <td>1903.5</td>\n",
       "      <td>2.0</td>\n",
       "      <td>unempl_lag_5</td>\n",
       "      <td>0.0</td>\n",
       "      <td>1695.954781</td>\n",
       "    </tr>\n",
       "    <tr>\n",
       "      <th>13</th>\n",
       "      <td>1903.5</td>\n",
       "      <td>2.0</td>\n",
       "      <td>unempl_lag_5</td>\n",
       "      <td>0.1</td>\n",
       "      <td>1695.954781</td>\n",
       "    </tr>\n",
       "    <tr>\n",
       "      <th>14</th>\n",
       "      <td>1903.5</td>\n",
       "      <td>2.0</td>\n",
       "      <td>unempl_lag_5</td>\n",
       "      <td>0.2</td>\n",
       "      <td>1695.954781</td>\n",
       "    </tr>\n",
       "    <tr>\n",
       "      <th>15</th>\n",
       "      <td>1903.5</td>\n",
       "      <td>2.0</td>\n",
       "      <td>federal_funds_lag_5</td>\n",
       "      <td>-0.2</td>\n",
       "      <td>1695.954781</td>\n",
       "    </tr>\n",
       "    <tr>\n",
       "      <th>16</th>\n",
       "      <td>1903.5</td>\n",
       "      <td>2.0</td>\n",
       "      <td>federal_funds_lag_5</td>\n",
       "      <td>-0.1</td>\n",
       "      <td>1695.954781</td>\n",
       "    </tr>\n",
       "    <tr>\n",
       "      <th>17</th>\n",
       "      <td>1903.5</td>\n",
       "      <td>2.0</td>\n",
       "      <td>federal_funds_lag_5</td>\n",
       "      <td>0.0</td>\n",
       "      <td>1695.954781</td>\n",
       "    </tr>\n",
       "    <tr>\n",
       "      <th>18</th>\n",
       "      <td>1903.5</td>\n",
       "      <td>2.0</td>\n",
       "      <td>federal_funds_lag_5</td>\n",
       "      <td>0.1</td>\n",
       "      <td>1695.954781</td>\n",
       "    </tr>\n",
       "    <tr>\n",
       "      <th>19</th>\n",
       "      <td>1903.5</td>\n",
       "      <td>2.0</td>\n",
       "      <td>federal_funds_lag_5</td>\n",
       "      <td>0.2</td>\n",
       "      <td>1695.954781</td>\n",
       "    </tr>\n",
       "  </tbody>\n",
       "</table>\n",
       "</div>"
      ],
      "text/plain": [
       "     twobe  mes             variable  porcentaje_var  nuevo_twobe\n",
       "0   1903.5  2.0          twobe_lag_5            -0.2  1703.533726\n",
       "1   1903.5  2.0          twobe_lag_5            -0.1  1699.744253\n",
       "2   1903.5  2.0          twobe_lag_5             0.0  1695.954781\n",
       "3   1903.5  2.0          twobe_lag_5             0.1  1692.165309\n",
       "4   1903.5  2.0          twobe_lag_5             0.2  1688.375836\n",
       "5   1903.5  2.0            amz_lag_5            -0.2  1483.561207\n",
       "6   1903.5  2.0            amz_lag_5            -0.1  1589.757994\n",
       "7   1903.5  2.0            amz_lag_5             0.0  1695.954781\n",
       "8   1903.5  2.0            amz_lag_5             0.1  1802.151568\n",
       "9   1903.5  2.0            amz_lag_5             0.2  1908.348355\n",
       "10  1903.5  2.0         unempl_lag_5            -0.2  1695.954781\n",
       "11  1903.5  2.0         unempl_lag_5            -0.1  1695.954781\n",
       "12  1903.5  2.0         unempl_lag_5             0.0  1695.954781\n",
       "13  1903.5  2.0         unempl_lag_5             0.1  1695.954781\n",
       "14  1903.5  2.0         unempl_lag_5             0.2  1695.954781\n",
       "15  1903.5  2.0  federal_funds_lag_5            -0.2  1695.954781\n",
       "16  1903.5  2.0  federal_funds_lag_5            -0.1  1695.954781\n",
       "17  1903.5  2.0  federal_funds_lag_5             0.0  1695.954781\n",
       "18  1903.5  2.0  federal_funds_lag_5             0.1  1695.954781\n",
       "19  1903.5  2.0  federal_funds_lag_5             0.2  1695.954781"
      ]
     },
     "execution_count": 27,
     "metadata": {},
     "output_type": "execute_result"
    }
   ],
   "source": [
    "cambio_twobe_df= pd.DataFrame([])\n",
    "for c in columns:\n",
    "    pronostico_twobe_df= pd.DataFrame([])\n",
    "    for porc_var in porcentajes_variacion_xi:\n",
    "        nuevo_xi=xi.copy()\n",
    "        nuevo_xi['porcentaje_var']=porc_var\n",
    "        nuevo_xi[c]=nuevo_xi[c]*(1+porc_var)\n",
    "        pronostico_twobe_df=pd.concat([nuevo_xi,pronostico_twobe_df],ignore_index=True)\n",
    "\n",
    "    predictions=object_model.predict_steps(winner_acum['model'],pronostico_twobe_df.drop(['twobe','porcentaje_var'],axis=1))\n",
    "    predictions['nuevo_twobe']=predictions['twobe']\n",
    "    predictions=pd.concat([pronostico_twobe_df,predictions[['nuevo_twobe']]],axis=1)\n",
    "    predictions['variable']=c\n",
    "    cambio_twobe_df=pd.concat([cambio_twobe_df,predictions[['twobe','mes','variable','porcentaje_var','nuevo_twobe']]],ignore_index=True)\n",
    "cambio_twobe_df.head(20)"
   ]
  },
  {
   "attachments": {},
   "cell_type": "markdown",
   "metadata": {},
   "source": [
    "### grafico de tornado"
   ]
  },
  {
   "cell_type": "code",
   "execution_count": 42,
   "metadata": {},
   "outputs": [],
   "source": [
    "porcentajes_variacion_xi = [0,0.01]\n",
    "acum_tornado_df = pd.DataFrame([])\n",
    "for steps in [x.date().isoformat() for x in df.iloc[-div:].index]:\n",
    "    xi = df.loc[[steps]]\n",
    "    for c in columns:\n",
    "        pronostico_twobe_df = pd.DataFrame([])\n",
    "        tornado_df = pd.DataFrame([])\n",
    "        for porc_var in porcentajes_variacion_xi:\n",
    "            nuevo_xi = xi.copy()\n",
    "            nuevo_xi['porcentaje_var_in'] = porc_var\n",
    "            nuevo_xi[c] = nuevo_xi[c]*(1+porc_var)\n",
    "            pronostico_twobe_df = pd.concat([nuevo_xi,pronostico_twobe_df],ignore_index=True)\n",
    "\n",
    "        predictions = object_model.predict_steps(winner_acum['model'],pronostico_twobe_df.drop(['twobe','porcentaje_var_in'],axis=1))\n",
    "        predictions['Xi'] = c\n",
    "        predictions['pronostico_twobe'] = predictions['twobe']\n",
    "        \n",
    "        predictions = pd.concat([pronostico_twobe_df[['twobe','mes','porcentaje_var_in']],predictions[['Xi','pronostico_twobe']]],axis=1)\n",
    "        \n",
    "        tornado_df=predictions.iloc[[0]]\n",
    "        tornado_df['porcentaje_cambio_twobe(%)']=((predictions['pronostico_twobe'].iloc[0]-predictions['pronostico_twobe'].iloc[1])/predictions['pronostico_twobe'].iloc[1])*100\n",
    "        acum_tornado_df = pd.concat([acum_tornado_df,tornado_df],ignore_index=True)\n",
    "acum_tornado_df.mes = acum_tornado_df.mes.apply(int)\n",
    "acum_tornado_df.to_csv(ROOT_PATH+'\\scenarios'+'\\macro_tornado.csv', index= False )"
   ]
  },
  {
   "cell_type": "code",
   "execution_count": 43,
   "metadata": {},
   "outputs": [
    {
     "data": {
      "text/html": [
       "<div>\n",
       "<style scoped>\n",
       "    .dataframe tbody tr th:only-of-type {\n",
       "        vertical-align: middle;\n",
       "    }\n",
       "\n",
       "    .dataframe tbody tr th {\n",
       "        vertical-align: top;\n",
       "    }\n",
       "\n",
       "    .dataframe thead th {\n",
       "        text-align: right;\n",
       "    }\n",
       "</style>\n",
       "<table border=\"1\" class=\"dataframe\">\n",
       "  <thead>\n",
       "    <tr style=\"text-align: right;\">\n",
       "      <th></th>\n",
       "      <th>twobe</th>\n",
       "      <th>mes</th>\n",
       "      <th>porcentaje_var_in</th>\n",
       "      <th>Xi</th>\n",
       "      <th>pronostico_twobe</th>\n",
       "      <th>porcentaje_cambio_twobe(%)</th>\n",
       "    </tr>\n",
       "  </thead>\n",
       "  <tbody>\n",
       "    <tr>\n",
       "      <th>0</th>\n",
       "      <td>1903.5</td>\n",
       "      <td>2</td>\n",
       "      <td>0.01</td>\n",
       "      <td>twobe_lag_5</td>\n",
       "      <td>1695.575834</td>\n",
       "      <td>-0.022344</td>\n",
       "    </tr>\n",
       "    <tr>\n",
       "      <th>1</th>\n",
       "      <td>1903.5</td>\n",
       "      <td>2</td>\n",
       "      <td>0.01</td>\n",
       "      <td>amz_lag_5</td>\n",
       "      <td>1706.574460</td>\n",
       "      <td>0.626177</td>\n",
       "    </tr>\n",
       "    <tr>\n",
       "      <th>2</th>\n",
       "      <td>1903.5</td>\n",
       "      <td>2</td>\n",
       "      <td>0.01</td>\n",
       "      <td>unempl_lag_5</td>\n",
       "      <td>1695.954781</td>\n",
       "      <td>0.000000</td>\n",
       "    </tr>\n",
       "    <tr>\n",
       "      <th>3</th>\n",
       "      <td>1903.5</td>\n",
       "      <td>2</td>\n",
       "      <td>0.01</td>\n",
       "      <td>federal_funds_lag_5</td>\n",
       "      <td>1695.954781</td>\n",
       "      <td>0.000000</td>\n",
       "    </tr>\n",
       "    <tr>\n",
       "      <th>4</th>\n",
       "      <td>1903.5</td>\n",
       "      <td>2</td>\n",
       "      <td>0.01</td>\n",
       "      <td>apparel_retailers_lag_5</td>\n",
       "      <td>1700.143482</td>\n",
       "      <td>0.246982</td>\n",
       "    </tr>\n",
       "    <tr>\n",
       "      <th>...</th>\n",
       "      <td>...</td>\n",
       "      <td>...</td>\n",
       "      <td>...</td>\n",
       "      <td>...</td>\n",
       "      <td>...</td>\n",
       "      <td>...</td>\n",
       "    </tr>\n",
       "    <tr>\n",
       "      <th>275</th>\n",
       "      <td>1575.5</td>\n",
       "      <td>6</td>\n",
       "      <td>0.01</td>\n",
       "      <td>inflation_lag_1</td>\n",
       "      <td>1510.381921</td>\n",
       "      <td>0.000000</td>\n",
       "    </tr>\n",
       "    <tr>\n",
       "      <th>276</th>\n",
       "      <td>1575.5</td>\n",
       "      <td>6</td>\n",
       "      <td>0.01</td>\n",
       "      <td>consumer_discretionary_lag_1</td>\n",
       "      <td>1512.022816</td>\n",
       "      <td>0.108641</td>\n",
       "    </tr>\n",
       "    <tr>\n",
       "      <th>277</th>\n",
       "      <td>1575.5</td>\n",
       "      <td>6</td>\n",
       "      <td>0.01</td>\n",
       "      <td>luxury_lag_1</td>\n",
       "      <td>1514.057468</td>\n",
       "      <td>0.243352</td>\n",
       "    </tr>\n",
       "    <tr>\n",
       "      <th>278</th>\n",
       "      <td>1575.5</td>\n",
       "      <td>6</td>\n",
       "      <td>0.01</td>\n",
       "      <td>fed_mp_lag_1</td>\n",
       "      <td>1510.381921</td>\n",
       "      <td>0.000000</td>\n",
       "    </tr>\n",
       "    <tr>\n",
       "      <th>279</th>\n",
       "      <td>1575.5</td>\n",
       "      <td>6</td>\n",
       "      <td>0.01</td>\n",
       "      <td>mes</td>\n",
       "      <td>1509.880843</td>\n",
       "      <td>-0.033176</td>\n",
       "    </tr>\n",
       "  </tbody>\n",
       "</table>\n",
       "<p>280 rows × 6 columns</p>\n",
       "</div>"
      ],
      "text/plain": [
       "      twobe  mes  porcentaje_var_in                            Xi  \\\n",
       "0    1903.5    2               0.01                   twobe_lag_5   \n",
       "1    1903.5    2               0.01                     amz_lag_5   \n",
       "2    1903.5    2               0.01                  unempl_lag_5   \n",
       "3    1903.5    2               0.01           federal_funds_lag_5   \n",
       "4    1903.5    2               0.01       apparel_retailers_lag_5   \n",
       "..      ...  ...                ...                           ...   \n",
       "275  1575.5    6               0.01               inflation_lag_1   \n",
       "276  1575.5    6               0.01  consumer_discretionary_lag_1   \n",
       "277  1575.5    6               0.01                  luxury_lag_1   \n",
       "278  1575.5    6               0.01                  fed_mp_lag_1   \n",
       "279  1575.5    6               0.01                           mes   \n",
       "\n",
       "     pronostico_twobe  porcentaje_cambio_twobe(%)  \n",
       "0         1695.575834                   -0.022344  \n",
       "1         1706.574460                    0.626177  \n",
       "2         1695.954781                    0.000000  \n",
       "3         1695.954781                    0.000000  \n",
       "4         1700.143482                    0.246982  \n",
       "..                ...                         ...  \n",
       "275       1510.381921                    0.000000  \n",
       "276       1512.022816                    0.108641  \n",
       "277       1514.057468                    0.243352  \n",
       "278       1510.381921                    0.000000  \n",
       "279       1509.880843                   -0.033176  \n",
       "\n",
       "[280 rows x 6 columns]"
      ]
     },
     "execution_count": 43,
     "metadata": {},
     "output_type": "execute_result"
    }
   ],
   "source": [
    "acum_tornado_df"
   ]
  },
  {
   "cell_type": "code",
   "execution_count": 33,
   "metadata": {},
   "outputs": [
    {
     "data": {
      "text/plain": [
       "'c:\\\\Users\\\\jmoscoso04\\\\OneDrive - Cementos Argos S.A\\\\Documentos\\\\Proyectos\\\\2B\\\\Macro_2B\\\\code'"
      ]
     },
     "execution_count": 33,
     "metadata": {},
     "output_type": "execute_result"
    }
   ],
   "source": [
    "ROOT_PATH"
   ]
  },
  {
   "attachments": {},
   "cell_type": "markdown",
   "metadata": {},
   "source": [
    "### graficar resultados"
   ]
  },
  {
   "cell_type": "code",
   "execution_count": 24,
   "metadata": {},
   "outputs": [],
   "source": [
    "import plotly.graph_objects as go\n",
    "%matplotlib inline\n",
    "\n",
    "def plot_tornado_chart(acum_tornado_df, name_feature):\n",
    "  Xi = acum_tornado_df['Xi']\n",
    "  sr1 = acum_tornado_df['porcentaje_cambio_twobe(%)']\n",
    "\n",
    "  fig = go.Figure()\n",
    "  fig.add_trace(go.Bar(y=Xi, x=sr1,\n",
    "                  base=0,\n",
    "                  marker_color='rgb(158,202,225)',\n",
    "                  name='Revenue',\n",
    "                  marker_line_color='rgb(8,48,107)',\n",
    "                  orientation='h',\n",
    "                  marker_line_width=1.5,\n",
    "                  opacity= 0.7,\n",
    "                  text = sr1,\n",
    "                  textposition='auto',\n",
    "                  #texttemplate = \"%{x:,s}(M$) \"\n",
    "  ))\n",
    "  fig.update_layout(\n",
    "      height=500,\n",
    "      margin=dict(t=50,l=10,b=10,r=10),\n",
    "  title_text=f\"Analisis de sensibilidad: Grafico de tornado {name_feature}\",\n",
    "  title_font_family=\"sans-serif\",\n",
    "  #legend_title_text=’Financials’,\n",
    "  title_font_size = 25,\n",
    "  title_font_color=\"darkblue\",\n",
    "  title_x=0.5 #to adjust the position along x-axis of the title\n",
    "  )\n",
    "  fig.update_layout(barmode='overlay', \n",
    "                    xaxis_tickangle=-45, \n",
    "                    legend=dict(\n",
    "                      x=0.80,\n",
    "                      y=0.01,\n",
    "  bgcolor='rgba(255, 255, 255, 0)',\n",
    "  bordercolor='rgba(255, 255, 255, 0)'\n",
    "  ),\n",
    "                    yaxis=dict(\n",
    "  title=Xi.name,\n",
    "  titlefont_size=16,\n",
    "  tickfont_size=14\n",
    "  ),\n",
    "  xaxis=dict(\n",
    "  title=sr1.name,\n",
    "  titlefont_size=16,\n",
    "  tickfont_size=14\n",
    "  ),\n",
    "  bargap=0.30)\n",
    "  fig.show()"
   ]
  },
  {
   "cell_type": "code",
   "execution_count": 26,
   "metadata": {},
   "outputs": [
    {
     "data": {
      "application/vnd.plotly.v1+json": {
       "config": {
        "plotlyServerURL": "https://plot.ly"
       },
       "data": [
        {
         "base": 0,
         "marker": {
          "color": "rgb(158,202,225)",
          "line": {
           "color": "rgb(8,48,107)",
           "width": 1.5
          }
         },
         "name": "Revenue",
         "opacity": 0.7,
         "orientation": "h",
         "text": [
          -0.023489030619235265,
          0.6379611313623987,
          0,
          0,
          0.2623192354268992,
          0,
          0.002340247843721061,
          0,
          -0.1108867908380917,
          -1.5216810367243325,
          0,
          0.3049486781963491,
          -0.005774083513015854,
          0,
          0,
          -0.6578876713218339,
          0,
          0.0008662598720784065,
          0,
          0.761401599056062,
          0.9442878323057498,
          0,
          -0.1766762938581262,
          0.20160632375540669,
          0,
          0,
          0.24808230066807316,
          0,
          0.0015865480267244344,
          0,
          -0.4909627733613272,
          0.6729355752809836,
          0,
          -0.05797900554575363,
          -0.25632478347523,
          0,
          0,
          -0.1546122486240065,
          0,
          0.0017075796210256032,
          0,
          -0.060442590896727495,
          -0.6771551961076342,
          0,
          0.6317939702567255,
          -0.022279061224438124,
          0,
          0,
          0.10252227549487306,
          0,
          0,
          0,
          0.10864105918454972,
          0.24335214667059266,
          0,
          -0.03317560623423455
         ],
         "textposition": "auto",
         "type": "bar",
         "x": [
          -0.023489030619235265,
          0.6379611313623987,
          0,
          0,
          0.2623192354268992,
          0,
          0.002340247843721061,
          0,
          -0.1108867908380917,
          -1.5216810367243325,
          0,
          0.3049486781963491,
          -0.005774083513015854,
          0,
          0,
          -0.6578876713218339,
          0,
          0.0008662598720784065,
          0,
          0.761401599056062,
          0.9442878323057498,
          0,
          -0.1766762938581262,
          0.20160632375540669,
          0,
          0,
          0.24808230066807316,
          0,
          0.0015865480267244344,
          0,
          -0.4909627733613272,
          0.6729355752809836,
          0,
          -0.05797900554575363,
          -0.25632478347523,
          0,
          0,
          -0.1546122486240065,
          0,
          0.0017075796210256032,
          0,
          -0.060442590896727495,
          -0.6771551961076342,
          0,
          0.6317939702567255,
          -0.022279061224438124,
          0,
          0,
          0.10252227549487306,
          0,
          0,
          0,
          0.10864105918454972,
          0.24335214667059266,
          0,
          -0.03317560623423455
         ],
         "y": [
          "twobe_lag_5",
          "amz_lag_5",
          "unempl_lag_5",
          "federal_funds_lag_5",
          "apparel_retailers_lag_5",
          "test_10y_lag_5",
          "gdp_lag_5",
          "inflation_lag_5",
          "consumer_discretionary_lag_5",
          "luxury_lag_5",
          "fed_mp_lag_5",
          "twobe_lag_4",
          "amz_lag_4",
          "unempl_lag_4",
          "federal_funds_lag_4",
          "apparel_retailers_lag_4",
          "test_10y_lag_4",
          "gdp_lag_4",
          "inflation_lag_4",
          "consumer_discretionary_lag_4",
          "luxury_lag_4",
          "fed_mp_lag_4",
          "twobe_lag_3",
          "amz_lag_3",
          "unempl_lag_3",
          "federal_funds_lag_3",
          "apparel_retailers_lag_3",
          "test_10y_lag_3",
          "gdp_lag_3",
          "inflation_lag_3",
          "consumer_discretionary_lag_3",
          "luxury_lag_3",
          "fed_mp_lag_3",
          "twobe_lag_2",
          "amz_lag_2",
          "unempl_lag_2",
          "federal_funds_lag_2",
          "apparel_retailers_lag_2",
          "test_10y_lag_2",
          "gdp_lag_2",
          "inflation_lag_2",
          "consumer_discretionary_lag_2",
          "luxury_lag_2",
          "fed_mp_lag_2",
          "twobe_lag_1",
          "amz_lag_1",
          "unempl_lag_1",
          "federal_funds_lag_1",
          "apparel_retailers_lag_1",
          "test_10y_lag_1",
          "gdp_lag_1",
          "inflation_lag_1",
          "consumer_discretionary_lag_1",
          "luxury_lag_1",
          "fed_mp_lag_1",
          "mes"
         ]
        }
       ],
       "layout": {
        "bargap": 0.3,
        "barmode": "overlay",
        "height": 500,
        "legend": {
         "bgcolor": "rgba(255, 255, 255, 0)",
         "bordercolor": "rgba(255, 255, 255, 0)",
         "x": 0.8,
         "y": 0.01
        },
        "margin": {
         "b": 10,
         "l": 10,
         "r": 10,
         "t": 50
        },
        "template": {
         "data": {
          "bar": [
           {
            "error_x": {
             "color": "#2a3f5f"
            },
            "error_y": {
             "color": "#2a3f5f"
            },
            "marker": {
             "line": {
              "color": "#E5ECF6",
              "width": 0.5
             },
             "pattern": {
              "fillmode": "overlay",
              "size": 10,
              "solidity": 0.2
             }
            },
            "type": "bar"
           }
          ],
          "barpolar": [
           {
            "marker": {
             "line": {
              "color": "#E5ECF6",
              "width": 0.5
             },
             "pattern": {
              "fillmode": "overlay",
              "size": 10,
              "solidity": 0.2
             }
            },
            "type": "barpolar"
           }
          ],
          "carpet": [
           {
            "aaxis": {
             "endlinecolor": "#2a3f5f",
             "gridcolor": "white",
             "linecolor": "white",
             "minorgridcolor": "white",
             "startlinecolor": "#2a3f5f"
            },
            "baxis": {
             "endlinecolor": "#2a3f5f",
             "gridcolor": "white",
             "linecolor": "white",
             "minorgridcolor": "white",
             "startlinecolor": "#2a3f5f"
            },
            "type": "carpet"
           }
          ],
          "choropleth": [
           {
            "colorbar": {
             "outlinewidth": 0,
             "ticks": ""
            },
            "type": "choropleth"
           }
          ],
          "contour": [
           {
            "colorbar": {
             "outlinewidth": 0,
             "ticks": ""
            },
            "colorscale": [
             [
              0,
              "#0d0887"
             ],
             [
              0.1111111111111111,
              "#46039f"
             ],
             [
              0.2222222222222222,
              "#7201a8"
             ],
             [
              0.3333333333333333,
              "#9c179e"
             ],
             [
              0.4444444444444444,
              "#bd3786"
             ],
             [
              0.5555555555555556,
              "#d8576b"
             ],
             [
              0.6666666666666666,
              "#ed7953"
             ],
             [
              0.7777777777777778,
              "#fb9f3a"
             ],
             [
              0.8888888888888888,
              "#fdca26"
             ],
             [
              1,
              "#f0f921"
             ]
            ],
            "type": "contour"
           }
          ],
          "contourcarpet": [
           {
            "colorbar": {
             "outlinewidth": 0,
             "ticks": ""
            },
            "type": "contourcarpet"
           }
          ],
          "heatmap": [
           {
            "colorbar": {
             "outlinewidth": 0,
             "ticks": ""
            },
            "colorscale": [
             [
              0,
              "#0d0887"
             ],
             [
              0.1111111111111111,
              "#46039f"
             ],
             [
              0.2222222222222222,
              "#7201a8"
             ],
             [
              0.3333333333333333,
              "#9c179e"
             ],
             [
              0.4444444444444444,
              "#bd3786"
             ],
             [
              0.5555555555555556,
              "#d8576b"
             ],
             [
              0.6666666666666666,
              "#ed7953"
             ],
             [
              0.7777777777777778,
              "#fb9f3a"
             ],
             [
              0.8888888888888888,
              "#fdca26"
             ],
             [
              1,
              "#f0f921"
             ]
            ],
            "type": "heatmap"
           }
          ],
          "heatmapgl": [
           {
            "colorbar": {
             "outlinewidth": 0,
             "ticks": ""
            },
            "colorscale": [
             [
              0,
              "#0d0887"
             ],
             [
              0.1111111111111111,
              "#46039f"
             ],
             [
              0.2222222222222222,
              "#7201a8"
             ],
             [
              0.3333333333333333,
              "#9c179e"
             ],
             [
              0.4444444444444444,
              "#bd3786"
             ],
             [
              0.5555555555555556,
              "#d8576b"
             ],
             [
              0.6666666666666666,
              "#ed7953"
             ],
             [
              0.7777777777777778,
              "#fb9f3a"
             ],
             [
              0.8888888888888888,
              "#fdca26"
             ],
             [
              1,
              "#f0f921"
             ]
            ],
            "type": "heatmapgl"
           }
          ],
          "histogram": [
           {
            "marker": {
             "pattern": {
              "fillmode": "overlay",
              "size": 10,
              "solidity": 0.2
             }
            },
            "type": "histogram"
           }
          ],
          "histogram2d": [
           {
            "colorbar": {
             "outlinewidth": 0,
             "ticks": ""
            },
            "colorscale": [
             [
              0,
              "#0d0887"
             ],
             [
              0.1111111111111111,
              "#46039f"
             ],
             [
              0.2222222222222222,
              "#7201a8"
             ],
             [
              0.3333333333333333,
              "#9c179e"
             ],
             [
              0.4444444444444444,
              "#bd3786"
             ],
             [
              0.5555555555555556,
              "#d8576b"
             ],
             [
              0.6666666666666666,
              "#ed7953"
             ],
             [
              0.7777777777777778,
              "#fb9f3a"
             ],
             [
              0.8888888888888888,
              "#fdca26"
             ],
             [
              1,
              "#f0f921"
             ]
            ],
            "type": "histogram2d"
           }
          ],
          "histogram2dcontour": [
           {
            "colorbar": {
             "outlinewidth": 0,
             "ticks": ""
            },
            "colorscale": [
             [
              0,
              "#0d0887"
             ],
             [
              0.1111111111111111,
              "#46039f"
             ],
             [
              0.2222222222222222,
              "#7201a8"
             ],
             [
              0.3333333333333333,
              "#9c179e"
             ],
             [
              0.4444444444444444,
              "#bd3786"
             ],
             [
              0.5555555555555556,
              "#d8576b"
             ],
             [
              0.6666666666666666,
              "#ed7953"
             ],
             [
              0.7777777777777778,
              "#fb9f3a"
             ],
             [
              0.8888888888888888,
              "#fdca26"
             ],
             [
              1,
              "#f0f921"
             ]
            ],
            "type": "histogram2dcontour"
           }
          ],
          "mesh3d": [
           {
            "colorbar": {
             "outlinewidth": 0,
             "ticks": ""
            },
            "type": "mesh3d"
           }
          ],
          "parcoords": [
           {
            "line": {
             "colorbar": {
              "outlinewidth": 0,
              "ticks": ""
             }
            },
            "type": "parcoords"
           }
          ],
          "pie": [
           {
            "automargin": true,
            "type": "pie"
           }
          ],
          "scatter": [
           {
            "fillpattern": {
             "fillmode": "overlay",
             "size": 10,
             "solidity": 0.2
            },
            "type": "scatter"
           }
          ],
          "scatter3d": [
           {
            "line": {
             "colorbar": {
              "outlinewidth": 0,
              "ticks": ""
             }
            },
            "marker": {
             "colorbar": {
              "outlinewidth": 0,
              "ticks": ""
             }
            },
            "type": "scatter3d"
           }
          ],
          "scattercarpet": [
           {
            "marker": {
             "colorbar": {
              "outlinewidth": 0,
              "ticks": ""
             }
            },
            "type": "scattercarpet"
           }
          ],
          "scattergeo": [
           {
            "marker": {
             "colorbar": {
              "outlinewidth": 0,
              "ticks": ""
             }
            },
            "type": "scattergeo"
           }
          ],
          "scattergl": [
           {
            "marker": {
             "colorbar": {
              "outlinewidth": 0,
              "ticks": ""
             }
            },
            "type": "scattergl"
           }
          ],
          "scattermapbox": [
           {
            "marker": {
             "colorbar": {
              "outlinewidth": 0,
              "ticks": ""
             }
            },
            "type": "scattermapbox"
           }
          ],
          "scatterpolar": [
           {
            "marker": {
             "colorbar": {
              "outlinewidth": 0,
              "ticks": ""
             }
            },
            "type": "scatterpolar"
           }
          ],
          "scatterpolargl": [
           {
            "marker": {
             "colorbar": {
              "outlinewidth": 0,
              "ticks": ""
             }
            },
            "type": "scatterpolargl"
           }
          ],
          "scatterternary": [
           {
            "marker": {
             "colorbar": {
              "outlinewidth": 0,
              "ticks": ""
             }
            },
            "type": "scatterternary"
           }
          ],
          "surface": [
           {
            "colorbar": {
             "outlinewidth": 0,
             "ticks": ""
            },
            "colorscale": [
             [
              0,
              "#0d0887"
             ],
             [
              0.1111111111111111,
              "#46039f"
             ],
             [
              0.2222222222222222,
              "#7201a8"
             ],
             [
              0.3333333333333333,
              "#9c179e"
             ],
             [
              0.4444444444444444,
              "#bd3786"
             ],
             [
              0.5555555555555556,
              "#d8576b"
             ],
             [
              0.6666666666666666,
              "#ed7953"
             ],
             [
              0.7777777777777778,
              "#fb9f3a"
             ],
             [
              0.8888888888888888,
              "#fdca26"
             ],
             [
              1,
              "#f0f921"
             ]
            ],
            "type": "surface"
           }
          ],
          "table": [
           {
            "cells": {
             "fill": {
              "color": "#EBF0F8"
             },
             "line": {
              "color": "white"
             }
            },
            "header": {
             "fill": {
              "color": "#C8D4E3"
             },
             "line": {
              "color": "white"
             }
            },
            "type": "table"
           }
          ]
         },
         "layout": {
          "annotationdefaults": {
           "arrowcolor": "#2a3f5f",
           "arrowhead": 0,
           "arrowwidth": 1
          },
          "autotypenumbers": "strict",
          "coloraxis": {
           "colorbar": {
            "outlinewidth": 0,
            "ticks": ""
           }
          },
          "colorscale": {
           "diverging": [
            [
             0,
             "#8e0152"
            ],
            [
             0.1,
             "#c51b7d"
            ],
            [
             0.2,
             "#de77ae"
            ],
            [
             0.3,
             "#f1b6da"
            ],
            [
             0.4,
             "#fde0ef"
            ],
            [
             0.5,
             "#f7f7f7"
            ],
            [
             0.6,
             "#e6f5d0"
            ],
            [
             0.7,
             "#b8e186"
            ],
            [
             0.8,
             "#7fbc41"
            ],
            [
             0.9,
             "#4d9221"
            ],
            [
             1,
             "#276419"
            ]
           ],
           "sequential": [
            [
             0,
             "#0d0887"
            ],
            [
             0.1111111111111111,
             "#46039f"
            ],
            [
             0.2222222222222222,
             "#7201a8"
            ],
            [
             0.3333333333333333,
             "#9c179e"
            ],
            [
             0.4444444444444444,
             "#bd3786"
            ],
            [
             0.5555555555555556,
             "#d8576b"
            ],
            [
             0.6666666666666666,
             "#ed7953"
            ],
            [
             0.7777777777777778,
             "#fb9f3a"
            ],
            [
             0.8888888888888888,
             "#fdca26"
            ],
            [
             1,
             "#f0f921"
            ]
           ],
           "sequentialminus": [
            [
             0,
             "#0d0887"
            ],
            [
             0.1111111111111111,
             "#46039f"
            ],
            [
             0.2222222222222222,
             "#7201a8"
            ],
            [
             0.3333333333333333,
             "#9c179e"
            ],
            [
             0.4444444444444444,
             "#bd3786"
            ],
            [
             0.5555555555555556,
             "#d8576b"
            ],
            [
             0.6666666666666666,
             "#ed7953"
            ],
            [
             0.7777777777777778,
             "#fb9f3a"
            ],
            [
             0.8888888888888888,
             "#fdca26"
            ],
            [
             1,
             "#f0f921"
            ]
           ]
          },
          "colorway": [
           "#636efa",
           "#EF553B",
           "#00cc96",
           "#ab63fa",
           "#FFA15A",
           "#19d3f3",
           "#FF6692",
           "#B6E880",
           "#FF97FF",
           "#FECB52"
          ],
          "font": {
           "color": "#2a3f5f"
          },
          "geo": {
           "bgcolor": "white",
           "lakecolor": "white",
           "landcolor": "#E5ECF6",
           "showlakes": true,
           "showland": true,
           "subunitcolor": "white"
          },
          "hoverlabel": {
           "align": "left"
          },
          "hovermode": "closest",
          "mapbox": {
           "style": "light"
          },
          "paper_bgcolor": "white",
          "plot_bgcolor": "#E5ECF6",
          "polar": {
           "angularaxis": {
            "gridcolor": "white",
            "linecolor": "white",
            "ticks": ""
           },
           "bgcolor": "#E5ECF6",
           "radialaxis": {
            "gridcolor": "white",
            "linecolor": "white",
            "ticks": ""
           }
          },
          "scene": {
           "xaxis": {
            "backgroundcolor": "#E5ECF6",
            "gridcolor": "white",
            "gridwidth": 2,
            "linecolor": "white",
            "showbackground": true,
            "ticks": "",
            "zerolinecolor": "white"
           },
           "yaxis": {
            "backgroundcolor": "#E5ECF6",
            "gridcolor": "white",
            "gridwidth": 2,
            "linecolor": "white",
            "showbackground": true,
            "ticks": "",
            "zerolinecolor": "white"
           },
           "zaxis": {
            "backgroundcolor": "#E5ECF6",
            "gridcolor": "white",
            "gridwidth": 2,
            "linecolor": "white",
            "showbackground": true,
            "ticks": "",
            "zerolinecolor": "white"
           }
          },
          "shapedefaults": {
           "line": {
            "color": "#2a3f5f"
           }
          },
          "ternary": {
           "aaxis": {
            "gridcolor": "white",
            "linecolor": "white",
            "ticks": ""
           },
           "baxis": {
            "gridcolor": "white",
            "linecolor": "white",
            "ticks": ""
           },
           "bgcolor": "#E5ECF6",
           "caxis": {
            "gridcolor": "white",
            "linecolor": "white",
            "ticks": ""
           }
          },
          "title": {
           "x": 0.05
          },
          "xaxis": {
           "automargin": true,
           "gridcolor": "white",
           "linecolor": "white",
           "ticks": "",
           "title": {
            "standoff": 15
           },
           "zerolinecolor": "white",
           "zerolinewidth": 2
          },
          "yaxis": {
           "automargin": true,
           "gridcolor": "white",
           "linecolor": "white",
           "ticks": "",
           "title": {
            "standoff": 15
           },
           "zerolinecolor": "white",
           "zerolinewidth": 2
          }
         }
        },
        "title": {
         "font": {
          "color": "darkblue",
          "family": "sans-serif",
          "size": 25
         },
         "text": "Analisis de sensibilidad: Grafico de tornado all features mes 6",
         "x": 0.5
        },
        "xaxis": {
         "tickangle": -45,
         "tickfont": {
          "size": 14
         },
         "title": {
          "font": {
           "size": 16
          },
          "text": "porcentaje_cambio_twobe(%)"
         }
        },
        "yaxis": {
         "tickfont": {
          "size": 14
         },
         "title": {
          "font": {
           "size": 16
          },
          "text": "Xi"
         }
        }
       }
      }
     },
     "metadata": {},
     "output_type": "display_data"
    }
   ],
   "source": [
    "plot_tornado_chart(acum_tornado_df[acum_tornado_df['mes'] == acum_tornado_df.mes.max()], 'all features mes 6')"
   ]
  },
  {
   "cell_type": "code",
   "execution_count": 27,
   "metadata": {},
   "outputs": [
    {
     "data": {
      "text/html": [
       "<div>\n",
       "<style scoped>\n",
       "    .dataframe tbody tr th:only-of-type {\n",
       "        vertical-align: middle;\n",
       "    }\n",
       "\n",
       "    .dataframe tbody tr th {\n",
       "        vertical-align: top;\n",
       "    }\n",
       "\n",
       "    .dataframe thead th {\n",
       "        text-align: right;\n",
       "    }\n",
       "</style>\n",
       "<table border=\"1\" class=\"dataframe\">\n",
       "  <thead>\n",
       "    <tr style=\"text-align: right;\">\n",
       "      <th></th>\n",
       "      <th>twobe_lag_5</th>\n",
       "      <th>amz_lag_5</th>\n",
       "      <th>unempl_lag_5</th>\n",
       "      <th>federal_funds_lag_5</th>\n",
       "      <th>apparel_retailers_lag_5</th>\n",
       "      <th>test_10y_lag_5</th>\n",
       "      <th>gdp_lag_5</th>\n",
       "      <th>inflation_lag_5</th>\n",
       "      <th>consumer_discretionary_lag_5</th>\n",
       "      <th>luxury_lag_5</th>\n",
       "      <th>...</th>\n",
       "      <th>federal_funds_lag_1</th>\n",
       "      <th>apparel_retailers_lag_1</th>\n",
       "      <th>test_10y_lag_1</th>\n",
       "      <th>gdp_lag_1</th>\n",
       "      <th>inflation_lag_1</th>\n",
       "      <th>consumer_discretionary_lag_1</th>\n",
       "      <th>luxury_lag_1</th>\n",
       "      <th>fed_mp_lag_1</th>\n",
       "      <th>twobe</th>\n",
       "      <th>mes</th>\n",
       "    </tr>\n",
       "    <tr>\n",
       "      <th>fecha</th>\n",
       "      <th></th>\n",
       "      <th></th>\n",
       "      <th></th>\n",
       "      <th></th>\n",
       "      <th></th>\n",
       "      <th></th>\n",
       "      <th></th>\n",
       "      <th></th>\n",
       "      <th></th>\n",
       "      <th></th>\n",
       "      <th></th>\n",
       "      <th></th>\n",
       "      <th></th>\n",
       "      <th></th>\n",
       "      <th></th>\n",
       "      <th></th>\n",
       "      <th></th>\n",
       "      <th></th>\n",
       "      <th></th>\n",
       "      <th></th>\n",
       "      <th></th>\n",
       "    </tr>\n",
       "  </thead>\n",
       "  <tbody>\n",
       "    <tr>\n",
       "      <th>2016-06-01</th>\n",
       "      <td>326.000000</td>\n",
       "      <td>30.053079</td>\n",
       "      <td>0.049</td>\n",
       "      <td>0.003626</td>\n",
       "      <td>769.421053</td>\n",
       "      <td>0.020794</td>\n",
       "      <td>0.005</td>\n",
       "      <td>0.014</td>\n",
       "      <td>583.945789</td>\n",
       "      <td>1829.755000</td>\n",
       "      <td>...</td>\n",
       "      <td>0.003662</td>\n",
       "      <td>739.619048</td>\n",
       "      <td>0.018022</td>\n",
       "      <td>0.011</td>\n",
       "      <td>0.010</td>\n",
       "      <td>625.030476</td>\n",
       "      <td>1879.246364</td>\n",
       "      <td>0.0050</td>\n",
       "      <td>229.233333</td>\n",
       "      <td>6</td>\n",
       "    </tr>\n",
       "    <tr>\n",
       "      <th>2016-07-01</th>\n",
       "      <td>167.241379</td>\n",
       "      <td>26.531000</td>\n",
       "      <td>0.049</td>\n",
       "      <td>0.003740</td>\n",
       "      <td>766.750000</td>\n",
       "      <td>0.017732</td>\n",
       "      <td>0.008</td>\n",
       "      <td>0.010</td>\n",
       "      <td>572.474500</td>\n",
       "      <td>1827.084286</td>\n",
       "      <td>...</td>\n",
       "      <td>0.003768</td>\n",
       "      <td>721.727273</td>\n",
       "      <td>0.016380</td>\n",
       "      <td>0.014</td>\n",
       "      <td>0.010</td>\n",
       "      <td>620.843636</td>\n",
       "      <td>1831.099091</td>\n",
       "      <td>0.0050</td>\n",
       "      <td>191.935484</td>\n",
       "      <td>7</td>\n",
       "    </tr>\n",
       "    <tr>\n",
       "      <th>2016-08-01</th>\n",
       "      <td>299.096774</td>\n",
       "      <td>28.618704</td>\n",
       "      <td>0.050</td>\n",
       "      <td>0.003613</td>\n",
       "      <td>823.590909</td>\n",
       "      <td>0.018882</td>\n",
       "      <td>0.011</td>\n",
       "      <td>0.009</td>\n",
       "      <td>614.056818</td>\n",
       "      <td>1957.138261</td>\n",
       "      <td>...</td>\n",
       "      <td>0.003955</td>\n",
       "      <td>762.900000</td>\n",
       "      <td>0.014918</td>\n",
       "      <td>0.029</td>\n",
       "      <td>0.008</td>\n",
       "      <td>641.695500</td>\n",
       "      <td>1860.712381</td>\n",
       "      <td>0.0050</td>\n",
       "      <td>201.677419</td>\n",
       "      <td>8</td>\n",
       "    </tr>\n",
       "    <tr>\n",
       "      <th>2016-09-01</th>\n",
       "      <td>308.633333</td>\n",
       "      <td>30.679714</td>\n",
       "      <td>0.050</td>\n",
       "      <td>0.003667</td>\n",
       "      <td>802.095238</td>\n",
       "      <td>0.017942</td>\n",
       "      <td>0.012</td>\n",
       "      <td>0.011</td>\n",
       "      <td>628.180000</td>\n",
       "      <td>1963.726667</td>\n",
       "      <td>...</td>\n",
       "      <td>0.003957</td>\n",
       "      <td>802.434783</td>\n",
       "      <td>0.015598</td>\n",
       "      <td>0.032</td>\n",
       "      <td>0.011</td>\n",
       "      <td>645.180435</td>\n",
       "      <td>1941.459565</td>\n",
       "      <td>0.0050</td>\n",
       "      <td>182.266667</td>\n",
       "      <td>9</td>\n",
       "    </tr>\n",
       "    <tr>\n",
       "      <th>2016-10-01</th>\n",
       "      <td>352.129032</td>\n",
       "      <td>34.873690</td>\n",
       "      <td>0.047</td>\n",
       "      <td>0.003662</td>\n",
       "      <td>739.619048</td>\n",
       "      <td>0.018022</td>\n",
       "      <td>0.011</td>\n",
       "      <td>0.010</td>\n",
       "      <td>625.030476</td>\n",
       "      <td>1879.246364</td>\n",
       "      <td>...</td>\n",
       "      <td>0.003948</td>\n",
       "      <td>782.761905</td>\n",
       "      <td>0.016324</td>\n",
       "      <td>0.035</td>\n",
       "      <td>0.015</td>\n",
       "      <td>630.777619</td>\n",
       "      <td>1923.752727</td>\n",
       "      <td>0.0050</td>\n",
       "      <td>169.967742</td>\n",
       "      <td>10</td>\n",
       "    </tr>\n",
       "    <tr>\n",
       "      <th>...</th>\n",
       "      <td>...</td>\n",
       "      <td>...</td>\n",
       "      <td>...</td>\n",
       "      <td>...</td>\n",
       "      <td>...</td>\n",
       "      <td>...</td>\n",
       "      <td>...</td>\n",
       "      <td>...</td>\n",
       "      <td>...</td>\n",
       "      <td>...</td>\n",
       "      <td>...</td>\n",
       "      <td>...</td>\n",
       "      <td>...</td>\n",
       "      <td>...</td>\n",
       "      <td>...</td>\n",
       "      <td>...</td>\n",
       "      <td>...</td>\n",
       "      <td>...</td>\n",
       "      <td>...</td>\n",
       "      <td>...</td>\n",
       "      <td>...</td>\n",
       "    </tr>\n",
       "    <tr>\n",
       "      <th>2022-02-01</th>\n",
       "      <td>1557.033333</td>\n",
       "      <td>171.359143</td>\n",
       "      <td>0.048</td>\n",
       "      <td>0.000790</td>\n",
       "      <td>1216.904762</td>\n",
       "      <td>0.013706</td>\n",
       "      <td>0.023</td>\n",
       "      <td>0.054</td>\n",
       "      <td>1461.767619</td>\n",
       "      <td>4533.517727</td>\n",
       "      <td>...</td>\n",
       "      <td>0.000800</td>\n",
       "      <td>1151.050000</td>\n",
       "      <td>0.017590</td>\n",
       "      <td>-0.014</td>\n",
       "      <td>0.075</td>\n",
       "      <td>1511.403500</td>\n",
       "      <td>4704.786667</td>\n",
       "      <td>0.0025</td>\n",
       "      <td>1903.500000</td>\n",
       "      <td>2</td>\n",
       "    </tr>\n",
       "    <tr>\n",
       "      <th>2022-03-01</th>\n",
       "      <td>1615.129032</td>\n",
       "      <td>166.710310</td>\n",
       "      <td>0.046</td>\n",
       "      <td>0.000795</td>\n",
       "      <td>1129.809524</td>\n",
       "      <td>0.015782</td>\n",
       "      <td>0.069</td>\n",
       "      <td>0.062</td>\n",
       "      <td>1497.409048</td>\n",
       "      <td>4623.269524</td>\n",
       "      <td>...</td>\n",
       "      <td>0.000800</td>\n",
       "      <td>1096.105263</td>\n",
       "      <td>0.019297</td>\n",
       "      <td>-0.015</td>\n",
       "      <td>0.079</td>\n",
       "      <td>1428.323158</td>\n",
       "      <td>4526.325000</td>\n",
       "      <td>0.0025</td>\n",
       "      <td>2038.451613</td>\n",
       "      <td>3</td>\n",
       "    </tr>\n",
       "    <tr>\n",
       "      <th>2022-04-01</th>\n",
       "      <td>1599.166667</td>\n",
       "      <td>175.880928</td>\n",
       "      <td>0.042</td>\n",
       "      <td>0.000795</td>\n",
       "      <td>1210.047619</td>\n",
       "      <td>0.015552</td>\n",
       "      <td>0.070</td>\n",
       "      <td>0.068</td>\n",
       "      <td>1633.888095</td>\n",
       "      <td>5045.598636</td>\n",
       "      <td>...</td>\n",
       "      <td>0.001996</td>\n",
       "      <td>1000.130435</td>\n",
       "      <td>0.021211</td>\n",
       "      <td>-0.016</td>\n",
       "      <td>0.085</td>\n",
       "      <td>1395.984783</td>\n",
       "      <td>4105.936087</td>\n",
       "      <td>0.0050</td>\n",
       "      <td>2011.400000</td>\n",
       "      <td>4</td>\n",
       "    </tr>\n",
       "    <tr>\n",
       "      <th>2022-05-01</th>\n",
       "      <td>1566.290323</td>\n",
       "      <td>170.862479</td>\n",
       "      <td>0.039</td>\n",
       "      <td>0.000796</td>\n",
       "      <td>1204.000000</td>\n",
       "      <td>0.014570</td>\n",
       "      <td>0.069</td>\n",
       "      <td>0.070</td>\n",
       "      <td>1591.778636</td>\n",
       "      <td>4873.154783</td>\n",
       "      <td>...</td>\n",
       "      <td>0.003300</td>\n",
       "      <td>1034.650000</td>\n",
       "      <td>0.027408</td>\n",
       "      <td>-0.009</td>\n",
       "      <td>0.083</td>\n",
       "      <td>1403.863000</td>\n",
       "      <td>4158.372857</td>\n",
       "      <td>0.0050</td>\n",
       "      <td>1821.354839</td>\n",
       "      <td>5</td>\n",
       "    </tr>\n",
       "    <tr>\n",
       "      <th>2022-06-01</th>\n",
       "      <td>1457.709677</td>\n",
       "      <td>155.480849</td>\n",
       "      <td>0.040</td>\n",
       "      <td>0.000800</td>\n",
       "      <td>1151.050000</td>\n",
       "      <td>0.017590</td>\n",
       "      <td>-0.014</td>\n",
       "      <td>0.075</td>\n",
       "      <td>1511.403500</td>\n",
       "      <td>4704.786667</td>\n",
       "      <td>...</td>\n",
       "      <td>0.007586</td>\n",
       "      <td>953.619048</td>\n",
       "      <td>0.029053</td>\n",
       "      <td>-0.006</td>\n",
       "      <td>0.086</td>\n",
       "      <td>1177.526190</td>\n",
       "      <td>3637.628182</td>\n",
       "      <td>0.0100</td>\n",
       "      <td>1575.500000</td>\n",
       "      <td>6</td>\n",
       "    </tr>\n",
       "  </tbody>\n",
       "</table>\n",
       "<p>73 rows × 57 columns</p>\n",
       "</div>"
      ],
      "text/plain": [
       "            twobe_lag_5   amz_lag_5  unempl_lag_5  federal_funds_lag_5  \\\n",
       "fecha                                                                    \n",
       "2016-06-01   326.000000   30.053079         0.049             0.003626   \n",
       "2016-07-01   167.241379   26.531000         0.049             0.003740   \n",
       "2016-08-01   299.096774   28.618704         0.050             0.003613   \n",
       "2016-09-01   308.633333   30.679714         0.050             0.003667   \n",
       "2016-10-01   352.129032   34.873690         0.047             0.003662   \n",
       "...                 ...         ...           ...                  ...   \n",
       "2022-02-01  1557.033333  171.359143         0.048             0.000790   \n",
       "2022-03-01  1615.129032  166.710310         0.046             0.000795   \n",
       "2022-04-01  1599.166667  175.880928         0.042             0.000795   \n",
       "2022-05-01  1566.290323  170.862479         0.039             0.000796   \n",
       "2022-06-01  1457.709677  155.480849         0.040             0.000800   \n",
       "\n",
       "            apparel_retailers_lag_5  test_10y_lag_5  gdp_lag_5  \\\n",
       "fecha                                                            \n",
       "2016-06-01               769.421053        0.020794      0.005   \n",
       "2016-07-01               766.750000        0.017732      0.008   \n",
       "2016-08-01               823.590909        0.018882      0.011   \n",
       "2016-09-01               802.095238        0.017942      0.012   \n",
       "2016-10-01               739.619048        0.018022      0.011   \n",
       "...                             ...             ...        ...   \n",
       "2022-02-01              1216.904762        0.013706      0.023   \n",
       "2022-03-01              1129.809524        0.015782      0.069   \n",
       "2022-04-01              1210.047619        0.015552      0.070   \n",
       "2022-05-01              1204.000000        0.014570      0.069   \n",
       "2022-06-01              1151.050000        0.017590     -0.014   \n",
       "\n",
       "            inflation_lag_5  consumer_discretionary_lag_5  luxury_lag_5  ...  \\\n",
       "fecha                                                                    ...   \n",
       "2016-06-01            0.014                    583.945789   1829.755000  ...   \n",
       "2016-07-01            0.010                    572.474500   1827.084286  ...   \n",
       "2016-08-01            0.009                    614.056818   1957.138261  ...   \n",
       "2016-09-01            0.011                    628.180000   1963.726667  ...   \n",
       "2016-10-01            0.010                    625.030476   1879.246364  ...   \n",
       "...                     ...                           ...           ...  ...   \n",
       "2022-02-01            0.054                   1461.767619   4533.517727  ...   \n",
       "2022-03-01            0.062                   1497.409048   4623.269524  ...   \n",
       "2022-04-01            0.068                   1633.888095   5045.598636  ...   \n",
       "2022-05-01            0.070                   1591.778636   4873.154783  ...   \n",
       "2022-06-01            0.075                   1511.403500   4704.786667  ...   \n",
       "\n",
       "            federal_funds_lag_1  apparel_retailers_lag_1  test_10y_lag_1  \\\n",
       "fecha                                                                      \n",
       "2016-06-01             0.003662               739.619048        0.018022   \n",
       "2016-07-01             0.003768               721.727273        0.016380   \n",
       "2016-08-01             0.003955               762.900000        0.014918   \n",
       "2016-09-01             0.003957               802.434783        0.015598   \n",
       "2016-10-01             0.003948               782.761905        0.016324   \n",
       "...                         ...                      ...             ...   \n",
       "2022-02-01             0.000800              1151.050000        0.017590   \n",
       "2022-03-01             0.000800              1096.105263        0.019297   \n",
       "2022-04-01             0.001996              1000.130435        0.021211   \n",
       "2022-05-01             0.003300              1034.650000        0.027408   \n",
       "2022-06-01             0.007586               953.619048        0.029053   \n",
       "\n",
       "            gdp_lag_1  inflation_lag_1  consumer_discretionary_lag_1  \\\n",
       "fecha                                                                  \n",
       "2016-06-01      0.011            0.010                    625.030476   \n",
       "2016-07-01      0.014            0.010                    620.843636   \n",
       "2016-08-01      0.029            0.008                    641.695500   \n",
       "2016-09-01      0.032            0.011                    645.180435   \n",
       "2016-10-01      0.035            0.015                    630.777619   \n",
       "...               ...              ...                           ...   \n",
       "2022-02-01     -0.014            0.075                   1511.403500   \n",
       "2022-03-01     -0.015            0.079                   1428.323158   \n",
       "2022-04-01     -0.016            0.085                   1395.984783   \n",
       "2022-05-01     -0.009            0.083                   1403.863000   \n",
       "2022-06-01     -0.006            0.086                   1177.526190   \n",
       "\n",
       "            luxury_lag_1  fed_mp_lag_1        twobe  mes  \n",
       "fecha                                                     \n",
       "2016-06-01   1879.246364        0.0050   229.233333    6  \n",
       "2016-07-01   1831.099091        0.0050   191.935484    7  \n",
       "2016-08-01   1860.712381        0.0050   201.677419    8  \n",
       "2016-09-01   1941.459565        0.0050   182.266667    9  \n",
       "2016-10-01   1923.752727        0.0050   169.967742   10  \n",
       "...                  ...           ...          ...  ...  \n",
       "2022-02-01   4704.786667        0.0025  1903.500000    2  \n",
       "2022-03-01   4526.325000        0.0025  2038.451613    3  \n",
       "2022-04-01   4105.936087        0.0050  2011.400000    4  \n",
       "2022-05-01   4158.372857        0.0050  1821.354839    5  \n",
       "2022-06-01   3637.628182        0.0100  1575.500000    6  \n",
       "\n",
       "[73 rows x 57 columns]"
      ]
     },
     "execution_count": 27,
     "metadata": {},
     "output_type": "execute_result"
    }
   ],
   "source": [
    "df"
   ]
  },
  {
   "cell_type": "code",
   "execution_count": null,
   "metadata": {},
   "outputs": [],
   "source": [
    "var_pron = [0.5, 0.75, 0.9, 1, 1.1, 1.25, 1.5]\n",
    "# df_macros = pd.concat([real_df_process, pred_df_process], axis = 0)\n",
    "df_macros = real_df_process[['TRM', 'IPC']]\n",
    "\n",
    "df_estimaciones_escenarios = pd.DataFrame()\n",
    "df_macros_esc = pd.DataFrame()\n",
    "df_macros_esc_ale = pd.DataFrame()\n",
    "macros_usadas = pd.DataFrame()\n",
    "\n",
    "for esc_trm, var_trm in enumerate(var_pron):\n",
    "    pred_df_process_esc_trm = pred_df_process.copy()\n",
    "    df_macros_esc['TRM'] = pred_df_process_esc_trm['TRM']*var_trm\n",
    "    pred_df_process_esc_trm['TRM'] = pred_df_process_esc_trm['TRM']*var_trm   \n",
    "    \n",
    "    for esc_ipc, var_ipc in enumerate(var_pron):\n",
    "        pred_df_process_esc_ipc = pred_df_process_esc_trm.copy()\n",
    "        df_macros_esc['IPC'] = pred_df_process_esc_ipc['IPC']*var_ipc\n",
    "        pred_df_process_esc_ipc['IPC'] = pred_df_process_esc_ipc['IPC']*var_ipc\n",
    "        \n",
    "        df_esc = pd.concat([real_df_process, pred_df_process_esc_ipc], axis = 0)\n",
    "        df_macros_esc_ale = pd.concat([df_macros, df_macros_esc])\n",
    "        macros_usadas['TRM_'+str(esc_trm)] = df_macros_esc_ale['TRM']\n",
    "        macros_usadas['IPC_'+str(esc_ipc)] = df_macros_esc_ale['IPC']\n",
    "#         df_macros_esc_ale.columns = ['TRM_'+str(esc_trm), 'IPC_'+str(esc_ipc)]\n",
    "#         macros_usadas = pd.concat([macros_usadas, df_macros_esc_ale], axis = 1)\n",
    "        \n",
    "        df_lags = series_to_supervised(df_esc, n_lags=n_lags, n_out=1, dropnan=True)\n",
    "        df = df_lags[df_lags.columns[:-len(features)+1]]\n",
    "        df['mes'] = df.index.month\n",
    "        data_test = df[-div:]     \n",
    "        predictions = model.predict(data_test.drop('ebitda',axis=1))\n",
    "        predictions = pd.DataFrame({f'ebitda_trm_{esc_trm}_ipc_{esc_ipc}':predictions})\n",
    "        predictions.index = data_test.index\n",
    "        predictions = predictions[predictions.index >= pred_df_process_esc_ipc.index.min()]\n",
    "        \n",
    "        df_escenarios = pd.concat([pred_df_process_esc_ipc[['TRM']], pred_df_process_esc_ipc[['IPC']], predictions], axis = 1)\n",
    "        df_escenarios.rename(columns= {'TRM':'TRM_'+str(esc_trm), 'IPC':'IPC_'+str(esc_ipc)}, inplace = True)\n",
    "        df_estimaciones_escenarios = pd.concat([df_estimaciones_escenarios, df_escenarios], axis = 1)"
   ]
  },
  {
   "cell_type": "code",
   "execution_count": 121,
   "metadata": {},
   "outputs": [],
   "source": [
    "df1 = data_valor[-(winner_valor['lags']+div):-div][features]"
   ]
  },
  {
   "attachments": {},
   "cell_type": "markdown",
   "metadata": {},
   "source": [
    "### Estimaciones Optimistas - Pesimistas"
   ]
  },
  {
   "cell_type": "code",
   "execution_count": 166,
   "metadata": {},
   "outputs": [],
   "source": [
    "df_probable = data_valor[-div:][features]\n",
    "df_optimista=df_probable.copy()\n",
    "df_optimista['infla_año_corrido']=df_optimista['infla_año_corrido']*0.9\n",
    "df_pesimista=df_probable.copy()\n",
    "df_pesimista['infla_año_corrido']=df_pesimista['infla_año_corrido']*1.1\n",
    "\n",
    "df_escenarios_probable=pd.concat([df1,df_probable])\n",
    "df_escenarios_optimista=pd.concat([df1,df_optimista])\n",
    "df_escenarios_pesimista=pd.concat([df1,df_pesimista])\n"
   ]
  },
  {
   "cell_type": "code",
   "execution_count": 180,
   "metadata": {},
   "outputs": [],
   "source": [
    "df_estimaciones_escenarios=pd.DataFrame([])\n",
    "for e,d in zip(['probable','optimista','pesimista'],[df_escenarios_probable,df_escenarios_optimista,df_escenarios_pesimista]):\n",
    "    df_lags=series_to_supervised(d, n_lags=winner_valor['lags'], n_out=1, dropnan=True)\n",
    "    df=df_lags[df_lags.columns[:-len(features)+1]]\n",
    "    df['mes']=df.index.month\n",
    "    data_test=df[-div:]     \n",
    "    predictions=object_model.predict_steps(winner_valor['model'],data_test.drop('ebitda',axis=1))\n",
    "    predictions.columns=[f'ebitda_{e}']\n",
    "    df_estimaciones_escenarios=pd.concat([df_estimaciones_escenarios,predictions],axis=1)\n",
    "df_estimaciones_escenarios.iloc[[0]]=df_estimaciones_escenarios.iloc[[0]]+data_acum.iloc[[-(div+1)]]['ebitda'][0]\n",
    "df_estimaciones_escenarios_final=df_estimaciones_escenarios.cumsum()\n"
   ]
  },
  {
   "cell_type": "code",
   "execution_count": 181,
   "metadata": {},
   "outputs": [
    {
     "data": {
      "application/vnd.plotly.v1+json": {
       "config": {
        "plotlyServerURL": "https://plot.ly"
       },
       "data": [
        {
         "hovertemplate": "variable=ebitda_probable<br>fecha=%{x}<br>value=%{y}<extra></extra>",
         "legendgroup": "ebitda_probable",
         "line": {
          "color": "#636efa",
          "dash": "solid"
         },
         "marker": {
          "symbol": "circle"
         },
         "mode": "lines",
         "name": "ebitda_probable",
         "orientation": "v",
         "showlegend": true,
         "type": "scatter",
         "x": [
          "2022-07-31T00:00:00",
          "2022-08-31T00:00:00",
          "2022-09-30T00:00:00",
          "2022-10-31T00:00:00",
          "2022-11-30T00:00:00"
         ],
         "xaxis": "x",
         "y": [
          351939964439.3037,
          395375433162.744,
          473997342634.9614,
          520270000508.39984,
          531194822334.6097
         ],
         "yaxis": "y"
        },
        {
         "hovertemplate": "variable=ebitda_optimista<br>fecha=%{x}<br>value=%{y}<extra></extra>",
         "legendgroup": "ebitda_optimista",
         "line": {
          "color": "#EF553B",
          "dash": "solid"
         },
         "marker": {
          "symbol": "circle"
         },
         "mode": "lines",
         "name": "ebitda_optimista",
         "orientation": "v",
         "showlegend": true,
         "type": "scatter",
         "x": [
          "2022-07-31T00:00:00",
          "2022-08-31T00:00:00",
          "2022-09-30T00:00:00",
          "2022-10-31T00:00:00",
          "2022-11-30T00:00:00"
         ],
         "xaxis": "x",
         "y": [
          351939964439.3037,
          395562241967.39905,
          476336745227.47266,
          523067150333.06366,
          532242088220.145
         ],
         "yaxis": "y"
        },
        {
         "hovertemplate": "variable=ebitda_pesimista<br>fecha=%{x}<br>value=%{y}<extra></extra>",
         "legendgroup": "ebitda_pesimista",
         "line": {
          "color": "#00cc96",
          "dash": "solid"
         },
         "marker": {
          "symbol": "circle"
         },
         "mode": "lines",
         "name": "ebitda_pesimista",
         "orientation": "v",
         "showlegend": true,
         "type": "scatter",
         "x": [
          "2022-07-31T00:00:00",
          "2022-08-31T00:00:00",
          "2022-09-30T00:00:00",
          "2022-10-31T00:00:00",
          "2022-11-30T00:00:00"
         ],
         "xaxis": "x",
         "y": [
          351939964439.3037,
          395184149792.7149,
          471611822188.84595,
          517424645837.56055,
          530144199680.4609
         ],
         "yaxis": "y"
        }
       ],
       "layout": {
        "legend": {
         "title": {
          "text": "variable"
         },
         "tracegroupgap": 0
        },
        "template": {
         "data": {
          "bar": [
           {
            "error_x": {
             "color": "#2a3f5f"
            },
            "error_y": {
             "color": "#2a3f5f"
            },
            "marker": {
             "line": {
              "color": "#E5ECF6",
              "width": 0.5
             },
             "pattern": {
              "fillmode": "overlay",
              "size": 10,
              "solidity": 0.2
             }
            },
            "type": "bar"
           }
          ],
          "barpolar": [
           {
            "marker": {
             "line": {
              "color": "#E5ECF6",
              "width": 0.5
             },
             "pattern": {
              "fillmode": "overlay",
              "size": 10,
              "solidity": 0.2
             }
            },
            "type": "barpolar"
           }
          ],
          "carpet": [
           {
            "aaxis": {
             "endlinecolor": "#2a3f5f",
             "gridcolor": "white",
             "linecolor": "white",
             "minorgridcolor": "white",
             "startlinecolor": "#2a3f5f"
            },
            "baxis": {
             "endlinecolor": "#2a3f5f",
             "gridcolor": "white",
             "linecolor": "white",
             "minorgridcolor": "white",
             "startlinecolor": "#2a3f5f"
            },
            "type": "carpet"
           }
          ],
          "choropleth": [
           {
            "colorbar": {
             "outlinewidth": 0,
             "ticks": ""
            },
            "type": "choropleth"
           }
          ],
          "contour": [
           {
            "colorbar": {
             "outlinewidth": 0,
             "ticks": ""
            },
            "colorscale": [
             [
              0,
              "#0d0887"
             ],
             [
              0.1111111111111111,
              "#46039f"
             ],
             [
              0.2222222222222222,
              "#7201a8"
             ],
             [
              0.3333333333333333,
              "#9c179e"
             ],
             [
              0.4444444444444444,
              "#bd3786"
             ],
             [
              0.5555555555555556,
              "#d8576b"
             ],
             [
              0.6666666666666666,
              "#ed7953"
             ],
             [
              0.7777777777777778,
              "#fb9f3a"
             ],
             [
              0.8888888888888888,
              "#fdca26"
             ],
             [
              1,
              "#f0f921"
             ]
            ],
            "type": "contour"
           }
          ],
          "contourcarpet": [
           {
            "colorbar": {
             "outlinewidth": 0,
             "ticks": ""
            },
            "type": "contourcarpet"
           }
          ],
          "heatmap": [
           {
            "colorbar": {
             "outlinewidth": 0,
             "ticks": ""
            },
            "colorscale": [
             [
              0,
              "#0d0887"
             ],
             [
              0.1111111111111111,
              "#46039f"
             ],
             [
              0.2222222222222222,
              "#7201a8"
             ],
             [
              0.3333333333333333,
              "#9c179e"
             ],
             [
              0.4444444444444444,
              "#bd3786"
             ],
             [
              0.5555555555555556,
              "#d8576b"
             ],
             [
              0.6666666666666666,
              "#ed7953"
             ],
             [
              0.7777777777777778,
              "#fb9f3a"
             ],
             [
              0.8888888888888888,
              "#fdca26"
             ],
             [
              1,
              "#f0f921"
             ]
            ],
            "type": "heatmap"
           }
          ],
          "heatmapgl": [
           {
            "colorbar": {
             "outlinewidth": 0,
             "ticks": ""
            },
            "colorscale": [
             [
              0,
              "#0d0887"
             ],
             [
              0.1111111111111111,
              "#46039f"
             ],
             [
              0.2222222222222222,
              "#7201a8"
             ],
             [
              0.3333333333333333,
              "#9c179e"
             ],
             [
              0.4444444444444444,
              "#bd3786"
             ],
             [
              0.5555555555555556,
              "#d8576b"
             ],
             [
              0.6666666666666666,
              "#ed7953"
             ],
             [
              0.7777777777777778,
              "#fb9f3a"
             ],
             [
              0.8888888888888888,
              "#fdca26"
             ],
             [
              1,
              "#f0f921"
             ]
            ],
            "type": "heatmapgl"
           }
          ],
          "histogram": [
           {
            "marker": {
             "pattern": {
              "fillmode": "overlay",
              "size": 10,
              "solidity": 0.2
             }
            },
            "type": "histogram"
           }
          ],
          "histogram2d": [
           {
            "colorbar": {
             "outlinewidth": 0,
             "ticks": ""
            },
            "colorscale": [
             [
              0,
              "#0d0887"
             ],
             [
              0.1111111111111111,
              "#46039f"
             ],
             [
              0.2222222222222222,
              "#7201a8"
             ],
             [
              0.3333333333333333,
              "#9c179e"
             ],
             [
              0.4444444444444444,
              "#bd3786"
             ],
             [
              0.5555555555555556,
              "#d8576b"
             ],
             [
              0.6666666666666666,
              "#ed7953"
             ],
             [
              0.7777777777777778,
              "#fb9f3a"
             ],
             [
              0.8888888888888888,
              "#fdca26"
             ],
             [
              1,
              "#f0f921"
             ]
            ],
            "type": "histogram2d"
           }
          ],
          "histogram2dcontour": [
           {
            "colorbar": {
             "outlinewidth": 0,
             "ticks": ""
            },
            "colorscale": [
             [
              0,
              "#0d0887"
             ],
             [
              0.1111111111111111,
              "#46039f"
             ],
             [
              0.2222222222222222,
              "#7201a8"
             ],
             [
              0.3333333333333333,
              "#9c179e"
             ],
             [
              0.4444444444444444,
              "#bd3786"
             ],
             [
              0.5555555555555556,
              "#d8576b"
             ],
             [
              0.6666666666666666,
              "#ed7953"
             ],
             [
              0.7777777777777778,
              "#fb9f3a"
             ],
             [
              0.8888888888888888,
              "#fdca26"
             ],
             [
              1,
              "#f0f921"
             ]
            ],
            "type": "histogram2dcontour"
           }
          ],
          "mesh3d": [
           {
            "colorbar": {
             "outlinewidth": 0,
             "ticks": ""
            },
            "type": "mesh3d"
           }
          ],
          "parcoords": [
           {
            "line": {
             "colorbar": {
              "outlinewidth": 0,
              "ticks": ""
             }
            },
            "type": "parcoords"
           }
          ],
          "pie": [
           {
            "automargin": true,
            "type": "pie"
           }
          ],
          "scatter": [
           {
            "fillpattern": {
             "fillmode": "overlay",
             "size": 10,
             "solidity": 0.2
            },
            "type": "scatter"
           }
          ],
          "scatter3d": [
           {
            "line": {
             "colorbar": {
              "outlinewidth": 0,
              "ticks": ""
             }
            },
            "marker": {
             "colorbar": {
              "outlinewidth": 0,
              "ticks": ""
             }
            },
            "type": "scatter3d"
           }
          ],
          "scattercarpet": [
           {
            "marker": {
             "colorbar": {
              "outlinewidth": 0,
              "ticks": ""
             }
            },
            "type": "scattercarpet"
           }
          ],
          "scattergeo": [
           {
            "marker": {
             "colorbar": {
              "outlinewidth": 0,
              "ticks": ""
             }
            },
            "type": "scattergeo"
           }
          ],
          "scattergl": [
           {
            "marker": {
             "colorbar": {
              "outlinewidth": 0,
              "ticks": ""
             }
            },
            "type": "scattergl"
           }
          ],
          "scattermapbox": [
           {
            "marker": {
             "colorbar": {
              "outlinewidth": 0,
              "ticks": ""
             }
            },
            "type": "scattermapbox"
           }
          ],
          "scatterpolar": [
           {
            "marker": {
             "colorbar": {
              "outlinewidth": 0,
              "ticks": ""
             }
            },
            "type": "scatterpolar"
           }
          ],
          "scatterpolargl": [
           {
            "marker": {
             "colorbar": {
              "outlinewidth": 0,
              "ticks": ""
             }
            },
            "type": "scatterpolargl"
           }
          ],
          "scatterternary": [
           {
            "marker": {
             "colorbar": {
              "outlinewidth": 0,
              "ticks": ""
             }
            },
            "type": "scatterternary"
           }
          ],
          "surface": [
           {
            "colorbar": {
             "outlinewidth": 0,
             "ticks": ""
            },
            "colorscale": [
             [
              0,
              "#0d0887"
             ],
             [
              0.1111111111111111,
              "#46039f"
             ],
             [
              0.2222222222222222,
              "#7201a8"
             ],
             [
              0.3333333333333333,
              "#9c179e"
             ],
             [
              0.4444444444444444,
              "#bd3786"
             ],
             [
              0.5555555555555556,
              "#d8576b"
             ],
             [
              0.6666666666666666,
              "#ed7953"
             ],
             [
              0.7777777777777778,
              "#fb9f3a"
             ],
             [
              0.8888888888888888,
              "#fdca26"
             ],
             [
              1,
              "#f0f921"
             ]
            ],
            "type": "surface"
           }
          ],
          "table": [
           {
            "cells": {
             "fill": {
              "color": "#EBF0F8"
             },
             "line": {
              "color": "white"
             }
            },
            "header": {
             "fill": {
              "color": "#C8D4E3"
             },
             "line": {
              "color": "white"
             }
            },
            "type": "table"
           }
          ]
         },
         "layout": {
          "annotationdefaults": {
           "arrowcolor": "#2a3f5f",
           "arrowhead": 0,
           "arrowwidth": 1
          },
          "autotypenumbers": "strict",
          "coloraxis": {
           "colorbar": {
            "outlinewidth": 0,
            "ticks": ""
           }
          },
          "colorscale": {
           "diverging": [
            [
             0,
             "#8e0152"
            ],
            [
             0.1,
             "#c51b7d"
            ],
            [
             0.2,
             "#de77ae"
            ],
            [
             0.3,
             "#f1b6da"
            ],
            [
             0.4,
             "#fde0ef"
            ],
            [
             0.5,
             "#f7f7f7"
            ],
            [
             0.6,
             "#e6f5d0"
            ],
            [
             0.7,
             "#b8e186"
            ],
            [
             0.8,
             "#7fbc41"
            ],
            [
             0.9,
             "#4d9221"
            ],
            [
             1,
             "#276419"
            ]
           ],
           "sequential": [
            [
             0,
             "#0d0887"
            ],
            [
             0.1111111111111111,
             "#46039f"
            ],
            [
             0.2222222222222222,
             "#7201a8"
            ],
            [
             0.3333333333333333,
             "#9c179e"
            ],
            [
             0.4444444444444444,
             "#bd3786"
            ],
            [
             0.5555555555555556,
             "#d8576b"
            ],
            [
             0.6666666666666666,
             "#ed7953"
            ],
            [
             0.7777777777777778,
             "#fb9f3a"
            ],
            [
             0.8888888888888888,
             "#fdca26"
            ],
            [
             1,
             "#f0f921"
            ]
           ],
           "sequentialminus": [
            [
             0,
             "#0d0887"
            ],
            [
             0.1111111111111111,
             "#46039f"
            ],
            [
             0.2222222222222222,
             "#7201a8"
            ],
            [
             0.3333333333333333,
             "#9c179e"
            ],
            [
             0.4444444444444444,
             "#bd3786"
            ],
            [
             0.5555555555555556,
             "#d8576b"
            ],
            [
             0.6666666666666666,
             "#ed7953"
            ],
            [
             0.7777777777777778,
             "#fb9f3a"
            ],
            [
             0.8888888888888888,
             "#fdca26"
            ],
            [
             1,
             "#f0f921"
            ]
           ]
          },
          "colorway": [
           "#636efa",
           "#EF553B",
           "#00cc96",
           "#ab63fa",
           "#FFA15A",
           "#19d3f3",
           "#FF6692",
           "#B6E880",
           "#FF97FF",
           "#FECB52"
          ],
          "font": {
           "color": "#2a3f5f"
          },
          "geo": {
           "bgcolor": "white",
           "lakecolor": "white",
           "landcolor": "#E5ECF6",
           "showlakes": true,
           "showland": true,
           "subunitcolor": "white"
          },
          "hoverlabel": {
           "align": "left"
          },
          "hovermode": "closest",
          "mapbox": {
           "style": "light"
          },
          "paper_bgcolor": "white",
          "plot_bgcolor": "#E5ECF6",
          "polar": {
           "angularaxis": {
            "gridcolor": "white",
            "linecolor": "white",
            "ticks": ""
           },
           "bgcolor": "#E5ECF6",
           "radialaxis": {
            "gridcolor": "white",
            "linecolor": "white",
            "ticks": ""
           }
          },
          "scene": {
           "xaxis": {
            "backgroundcolor": "#E5ECF6",
            "gridcolor": "white",
            "gridwidth": 2,
            "linecolor": "white",
            "showbackground": true,
            "ticks": "",
            "zerolinecolor": "white"
           },
           "yaxis": {
            "backgroundcolor": "#E5ECF6",
            "gridcolor": "white",
            "gridwidth": 2,
            "linecolor": "white",
            "showbackground": true,
            "ticks": "",
            "zerolinecolor": "white"
           },
           "zaxis": {
            "backgroundcolor": "#E5ECF6",
            "gridcolor": "white",
            "gridwidth": 2,
            "linecolor": "white",
            "showbackground": true,
            "ticks": "",
            "zerolinecolor": "white"
           }
          },
          "shapedefaults": {
           "line": {
            "color": "#2a3f5f"
           }
          },
          "ternary": {
           "aaxis": {
            "gridcolor": "white",
            "linecolor": "white",
            "ticks": ""
           },
           "baxis": {
            "gridcolor": "white",
            "linecolor": "white",
            "ticks": ""
           },
           "bgcolor": "#E5ECF6",
           "caxis": {
            "gridcolor": "white",
            "linecolor": "white",
            "ticks": ""
           }
          },
          "title": {
           "x": 0.05
          },
          "xaxis": {
           "automargin": true,
           "gridcolor": "white",
           "linecolor": "white",
           "ticks": "",
           "title": {
            "standoff": 15
           },
           "zerolinecolor": "white",
           "zerolinewidth": 2
          },
          "yaxis": {
           "automargin": true,
           "gridcolor": "white",
           "linecolor": "white",
           "ticks": "",
           "title": {
            "standoff": 15
           },
           "zerolinecolor": "white",
           "zerolinewidth": 2
          }
         }
        },
        "title": {
         "text": "Escenario IPC"
        },
        "xaxis": {
         "anchor": "y",
         "domain": [
          0,
          1
         ],
         "dtick": "M1",
         "tickformat": "%b\n%Y",
         "title": {
          "text": "fecha"
         }
        },
        "yaxis": {
         "anchor": "x",
         "domain": [
          0,
          1
         ],
         "title": {
          "text": "value"
         }
        }
       }
      }
     },
     "metadata": {},
     "output_type": "display_data"
    }
   ],
   "source": [
    "import plotly.express as px\n",
    "\n",
    "fig = px.line(df_estimaciones_escenarios_final, x=df_estimaciones_escenarios_final.index, y=df_estimaciones_escenarios_final.columns,\n",
    "              title='Escenario IPC')\n",
    "fig.update_xaxes(\n",
    "    dtick=\"M1\",\n",
    "    tickformat=\"%b\\n%Y\")\n",
    "fig.show()"
   ]
  }
 ],
 "metadata": {
  "kernelspec": {
   "display_name": "time_series_env",
   "language": "python",
   "name": "python3"
  },
  "language_info": {
   "codemirror_mode": {
    "name": "ipython",
    "version": 3
   },
   "file_extension": ".py",
   "mimetype": "text/x-python",
   "name": "python",
   "nbconvert_exporter": "python",
   "pygments_lexer": "ipython3",
   "version": "3.10.8"
  },
  "orig_nbformat": 4,
  "vscode": {
   "interpreter": {
    "hash": "1a391c035406ef027c4dab3cfc3e62aa0bcd3fdfa6cb22784ca34e57fbbda188"
   }
  }
 },
 "nbformat": 4,
 "nbformat_minor": 2
}
